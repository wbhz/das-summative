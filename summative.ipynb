{
 "metadata": {
  "language_info": {
   "codemirror_mode": {
    "name": "ipython",
    "version": 3
   },
   "file_extension": ".py",
   "mimetype": "text/x-python",
   "name": "python",
   "nbconvert_exporter": "python",
   "pygments_lexer": "ipython3",
   "version": "3.7.9-final"
  },
  "orig_nbformat": 2,
  "kernelspec": {
   "name": "python3",
   "display_name": "Python 3",
   "language": "python"
  }
 },
 "nbformat": 4,
 "nbformat_minor": 2,
 "cells": [
  {
   "source": [
    "## Instructions\n",
    "\n",
    "## Data Analytics at Scale Summative Assessment\n",
    "\n",
    "You have been contracted as a consultant for Find Images Now (FIN), a tech start-up that wants to match and cluster images at scale. FIN has identified a promising technique but needs help evaluating the performance of the approach. Your evaluation should assess both the accuracy and computational costs (e.g., CPU, memory, runtime demands and how these scale with the number of images as input). \n",
    "\n",
    "In particular, FIN has identified “image hashing” approaches and identified the image hash library in Python: https://github.com/JohannesBuchner/imagehash as well as its own in-house hashing approach, called FINd, for which a pure Python implementation is available at https://github.com/oxfordinternetinstitute/das2020 . \n",
    "Candidates must first seek to optimize FINd by identifying what portions of the algorithm are computational bottlenecks, implementing alternatives, and comparing computational performance. Candidates must plan and implement two or three optimizations. These optimizations may include: \n",
    "* use of scientific Python library such as numpy, scipy, and pandas, \n",
    "* different execution approaches (e.g., single process on one CPU vs multiprocessing on a single computer vs distributed approaches), \n",
    "* use of GPUs, \n",
    "* use of C-compiled code (i.e., cython), \n",
    "* etc. \n",
    "\n",
    "When implementing the optimizations, candidates should ensure the correctness of their output by writing an appropriate unit test. They should also profile the code to analyse CPU, memory, runtime, and other relevant aspects of computational performance.  \n",
    "\n",
    "After this, candidates must compare the performance (both in terms of accuracy and computational costs) of two methods from the imagehash library to their optimized version of FINd using the dataset provided in class. That is, compare FINd with any two of the following from the imagehash library: \n",
    "* average hashing (aHash) \n",
    "* perception hashing (pHash) \n",
    "* difference hashing (dHash) \n",
    "* wavelet hashing (wHash) \n",
    "\n",
    "FIN expect a written report, not to exceed 3,500 words, consisting of two parts. Part 1 will report on FINd including an initial assessment of the performance of the code, the optimizations attempted, and the resulting changes (positive or negative) in computational performance. Candidates should discuss any relevant trade-offs (e.g., CPU vs. memory) of these optimizations. The second half of the report should focus on how FINd compares to the two other image hashing methods selected. This part should analyse both the accuracy of the results as well as the computational costs. The report should focus most in-depth on the trade-offs of different approaches (e.g., the advantages and disadvantages of each approach and how the approaches compare to one another). Finally, candidates should discuss which approach is the 'best' for the given dataset and FIN’s need to match similar images at scale. \n",
    "\n",
    "### Further details: \n",
    "Projects will be examined based on the following criteria and approximate weights: \n",
    "* Part 1 \n",
    "    * 15 points Clear plan for and analysis of the provided FINd algorithm  \n",
    "    * 5 points - Executable code analysing the provided FINd algorithm \n",
    "    * 10 points - Clear rationale/justification for the planned optimizations for FINd along with a clear description of two or three computational optimizations to FINd that the author will implement and compare (and the relative ‘difficulty’ of these approaches [see below]) \n",
    "    * 10 points - Executable code that implements the described optimizations \n",
    "    * 15 points - Comparison of each optimization (i.e., what trade-offs are involved) \n",
    "* Part 2 \n",
    "    * 15 points - Comparison of the accuracy and performance of FINd against two other image hashing approaches \n",
    "    * 10 points - Executable code that implements the comparisons between FINd and two other image hashing approaches \n",
    "    * 20 points - Discussion as to which approach is most suited for the specific data and task. \n",
    "\n",
    "The best projects will typically contain at least some of the following: \n",
    "* Evidence that the candidate has gone beyond the materials presented in class and the lab sessions \n",
    "* Include multiple approaches that are clearly distinct. For example, comparing the performance three different Python libraries is considerably easier than implementing single-process, multi-process, and distributed approaches. \n",
    "* Have clear code with sufficient comments/documentation for it to be easily understood  \n",
    "* Be well-written and demonstrate originality \n",
    "\n",
    "### FAQs \n",
    "* Can I base my project purely on the code distributed in class? - Yes, but try and at least use it in an original way. A project which simply duplicates a class exercise is unlikely to get a good mark, though it likely would not fail if it was at least well executed \n",
    "* Can I use code found on the Internet? Can I use library X? - Yes. Understanding another person’s code / library is a fundamental part of programming, but it is important to understand the code including its computational and memory implications. Following best practices, please cite any sources from where you obtained code and be clear about what modifications you made.  \n",
    "* Can one of my approaches be a standalone software package (e.g., NodeXL, QDA Minner, etc.) - Not for this class: please choose approaches that require programming \n",
    "* Can one of my approaches be in a language other than Python? - No. For the purpose of this assignment, please only compare Python approaches. \n",
    "* One of my computational approaches is unlikely to finish in the time available. Help! - It is perfectly fine (and in fact good practice) to profile your code on a subset of the data if the data set is very large. There is no requirement that you run all your approaches on the full dataset. \n",
    "* Can I work together with another student? - No. The report submitted and code developed must be entirely your own work. Collaboration with another student in the course is not allowed. "
   ],
   "cell_type": "markdown",
   "metadata": {}
  },
  {
   "cell_type": "code",
   "execution_count": 515,
   "metadata": {},
   "outputs": [],
   "source": [
    "from FINd import FINDHasher\n",
    "import FINd_optim\n",
    "# from FINd_optim import FINDHasher2\n",
    "import imagehash\n",
    "from PIL import Image"
   ]
  },
  {
   "cell_type": "code",
   "execution_count": 301,
   "metadata": {},
   "outputs": [],
   "source": [
    "# Additional import statements\n",
    "import os\n",
    "import random\n",
    "random.seed(42)\n",
    "import pickle\n",
    "import numpy as np\n",
    "import math"
   ]
  },
  {
   "cell_type": "code",
   "execution_count": 516,
   "metadata": {},
   "outputs": [
    {
     "output_type": "error",
     "ename": "AttributeError",
     "evalue": "module 'FINd_optim' has no attribute 'FINDHasher2'",
     "traceback": [
      "\u001b[0;31m---------------------------------------------------------------------------\u001b[0m",
      "\u001b[0;31mAttributeError\u001b[0m                            Traceback (most recent call last)",
      "\u001b[0;32m<ipython-input-516-ad57de47182f>\u001b[0m in \u001b[0;36m<module>\u001b[0;34m\u001b[0m\n\u001b[1;32m      1\u001b[0m \u001b[0mfindHasher\u001b[0m\u001b[0;34m=\u001b[0m\u001b[0mFINDHasher\u001b[0m\u001b[0;34m(\u001b[0m\u001b[0;34m)\u001b[0m\u001b[0;34m\u001b[0m\u001b[0;34m\u001b[0m\u001b[0m\n\u001b[0;32m----> 2\u001b[0;31m \u001b[0mfindHasher2\u001b[0m \u001b[0;34m=\u001b[0m \u001b[0mFINd_optim\u001b[0m\u001b[0;34m.\u001b[0m\u001b[0mFINDHasher2\u001b[0m\u001b[0;34m(\u001b[0m\u001b[0;34m)\u001b[0m\u001b[0;34m\u001b[0m\u001b[0;34m\u001b[0m\u001b[0m\n\u001b[0m",
      "\u001b[0;31mAttributeError\u001b[0m: module 'FINd_optim' has no attribute 'FINDHasher2'"
     ]
    }
   ],
   "source": [
    "findHasher=FINDHasher()\n",
    "findHasher2 = FINd_optim.FINDHasher2()"
   ]
  },
  {
   "cell_type": "code",
   "execution_count": 13,
   "metadata": {},
   "outputs": [],
   "source": [
    "ex1=findHasher.fromFile(\"das_images/0040_10318987.jpg\")\n",
    "ex2=findHasher.fromFile(\"das_images/0040_10321701.jpg\")\n",
    "\n",
    "ex3=findHasher.fromFile(\"das_images/0120_27768345.jpg\")\n",
    "\n",
    "img=Image.open(\"das_images/0120_28335973.jpg\")\n",
    "ex4=findHasher.fromImage(img)"
   ]
  },
  {
   "cell_type": "code",
   "execution_count": 14,
   "metadata": {},
   "outputs": [
    {
     "output_type": "stream",
     "name": "stdout",
     "text": [
      " "
     ]
    },
    {
     "output_type": "stream",
     "text": [
      "         500235 function calls in 0.496 seconds\n",
      "\n",
      "   Ordered by: internal time\n",
      "\n",
      "   ncalls  tottime  percall  cumtime  percall filename:lineno(function)\n",
      "        1    0.343    0.343    0.382    0.382 FINd.py:167(boxFilter)\n",
      "        1    0.032    0.032    0.095    0.095 FINd.py:66(fillFloatLumaFromBufferImage)\n",
      "    62500    0.024    0.000    0.063    0.000 Image.py:1345(getpixel)\n",
      "    62504    0.023    0.000    0.031    0.000 Image.py:801(load)\n",
      "   125000    0.022    0.000    0.022    0.000 {built-in method builtins.max}\n",
      "   125000    0.018    0.000    0.018    0.000 {built-in method builtins.min}\n",
      "        1    0.009    0.009    0.009    0.009 FINd.py:110(dct64To16)\n",
      "    62500    0.009    0.000    0.009    0.000 {method 'getpixel' of 'ImagingCore' objects}\n",
      "    62503    0.008    0.000    0.008    0.000 {method 'pixel_access' of 'ImagingCore' objects}\n",
      "        1    0.001    0.001    0.495    0.495 FINd.py:39(fromFile)\n",
      "        1    0.001    0.001    0.001    0.001 FINd.py:100(decimateFloat)\n",
      "        1    0.001    0.001    0.002    0.002 FINd.py:146(dctOutput2hash)\n",
      "        1    0.001    0.001    0.001    0.001 {method 'decode' of 'ImagingDecoder' objects}\n",
      "        1    0.001    0.001    0.001    0.001 Image.py:2841(open)\n",
      "        1    0.000    0.000    0.000    0.000 matrix.py:16(torben)\n",
      "        2    0.000    0.000    0.000    0.000 matrix.py:12(allocateMatrixAsRowMajorArray)\n",
      "        2    0.000    0.000    0.000    0.000 {method 'copy' of 'ImagingCore' objects}\n",
      "        1    0.000    0.000    0.000    0.000 {built-in method io.open}\n",
      "        1    0.000    0.000    0.496    0.496 {built-in method builtins.exec}\n",
      "        1    0.000    0.000    0.002    0.002 ImageFile.py:154(load)\n",
      "       38    0.000    0.000    0.000    0.000 {method 'read' of '_io.BufferedReader' objects}\n",
      "        3    0.000    0.000    0.000    0.000 matrix.py:5(allocateMatrix)\n",
      "        1    0.000    0.000    0.000    0.000 {built-in method PIL._imaging.new}\n",
      "        1    0.000    0.000    0.000    0.000 JpegImagePlugin.py:343(_open)\n",
      "        1    0.000    0.000    0.493    0.493 FINd.py:47(fromImage)\n",
      "        2    0.000    0.000    0.000    0.000 JpegImagePlugin.py:236(DQT)\n",
      "        1    0.000    0.000    0.000    0.000 _binary.py:50(i32le)\n",
      "        1    0.000    0.000    0.000    0.000 {method 'close' of '_io.BufferedReader' objects}\n",
      "        1    0.000    0.000    0.000    0.000 Image.py:2906(_open_core)\n",
      "        2    0.000    0.000    0.003    0.001 Image.py:1098(copy)\n",
      "        1    0.000    0.000    0.000    0.000 JpegImagePlugin.py:59(APP)\n",
      "        3    0.000    0.000    0.000    0.000 Image.py:530(__init__)\n",
      "        1    0.000    0.000    0.000    0.000 {built-in method numpy.zeros}\n",
      "        2    0.000    0.000    0.000    0.000 Image.py:555(_new)\n",
      "        1    0.000    0.000    0.000    0.000 Image.py:2260(thumbnail)\n",
      "        1    0.000    0.000    0.394    0.394 FINd.py:79(findHash256FromFloatLuma)\n",
      "        1    0.000    0.000    0.000    0.000 JpegImagePlugin.py:188(SOF)\n",
      "        1    0.000    0.000    0.495    0.495 <string>:1(<module>)\n",
      "        1    0.000    0.000    0.000    0.000 ImageFile.py:92(__init__)\n",
      "        1    0.000    0.000    0.000    0.000 JpegImagePlugin.py:777(jpeg_factory)\n",
      "       24    0.000    0.000    0.000    0.000 {built-in method _struct.unpack_from}\n",
      "        3    0.000    0.000    0.000    0.000 {method 'seek' of '_io.BufferedReader' objects}\n",
      "        1    0.000    0.000    0.000    0.000 Image.py:419(_getdecoder)\n",
      "       23    0.000    0.000    0.000    0.000 _binary.py:70(i16be)\n",
      "        1    0.000    0.000    0.000    0.000 ImageFile.py:288(load_prepare)\n",
      "        1    0.000    0.000    0.000    0.000 JpegImagePlugin.py:485(_getmp)\n",
      "        1    0.000    0.000    0.000    0.000 Image.py:851(convert)\n",
      "       23    0.000    0.000    0.000    0.000 _binary.py:21(i8)\n",
      "        2    0.000    0.000    0.000    0.000 _util.py:5(isPath)\n",
      "        9    0.000    0.000    0.000    0.000 ImageFile.py:550(_safe_read)\n",
      "        2    0.000    0.000    0.000    0.000 {method 'copy' of 'dict' objects}\n",
      "        5    0.000    0.000    0.000    0.000 {built-in method builtins.isinstance}\n",
      "        5    0.000    0.000    0.000    0.000 JpegImagePlugin.py:54(Skip)\n",
      "        1    0.000    0.000    0.000    0.000 BmpImagePlugin.py:54(_dib_accept)\n",
      "        1    0.000    0.000    0.000    0.000 {built-in method builtins.hasattr}\n",
      "        1    0.000    0.000    0.000    0.000 {built-in method PIL._imaging.jpeg_decoder}\n",
      "        1    0.000    0.000    0.000    0.000 {method 'reshape' of 'numpy.ndarray' objects}\n",
      "        1    0.000    0.000    0.000    0.000 TiffImagePlugin.py:257(_accept)\n",
      "        2    0.000    0.000    0.000    0.000 FINd.py:159(computeBoxFilterWindowSize)\n",
      "       10    0.000    0.000    0.000    0.000 Image.py:551(size)\n",
      "        1    0.000    0.000    0.000    0.000 {method 'sort' of 'list' objects}\n",
      "        1    0.000    0.000    0.000    0.000 imagehash.py:88(__init__)\n",
      "        1    0.000    0.000    0.000    0.000 Image.py:543(width)\n",
      "        1    0.000    0.000    0.000    0.000 BmpImagePlugin.py:50(_accept)\n",
      "        4    0.000    0.000    0.000    0.000 {method 'append' of 'list' objects}\n",
      "        8    0.000    0.000    0.000    0.000 {built-in method builtins.len}\n",
      "        1    0.000    0.000    0.000    0.000 {method 'setimage' of 'ImagingDecoder' objects}\n",
      "        1    0.000    0.000    0.000    0.000 JpegImagePlugin.py:394(load_read)\n",
      "        1    0.000    0.000    0.000    0.000 Image.py:347(preinit)\n",
      "        1    0.000    0.000    0.000    0.000 Image.py:2821(_decompression_bomb_check)\n",
      "        1    0.000    0.000    0.000    0.000 GifImagePlugin.py:42(_accept)\n",
      "        1    0.000    0.000    0.000    0.000 {built-in method builtins.divmod}\n",
      "        1    0.000    0.000    0.000    0.000 {built-in method builtins.getattr}\n",
      "        1    0.000    0.000    0.000    0.000 {method 'disable' of '_lsprof.Profiler' objects}\n",
      "        1    0.000    0.000    0.000    0.000 {method 'cleanup' of 'ImagingDecoder' objects}\n",
      "        2    0.000    0.000    0.000    0.000 JpegImagePlugin.py:329(_accept)\n",
      "        1    0.000    0.000    0.000    0.000 JpegImagePlugin.py:475(_getmp)\n",
      "        1    0.000    0.000    0.000    0.000 Image.py:547(height)\n",
      "        1    0.000    0.000    0.000    0.000 ImageFile.py:296(load_end)\n",
      "        1    0.000    0.000    0.000    0.000 ImageFile.py:79(_tilesort)"
     ],
     "name": "stdout"
    }
   ],
   "source": [
    "%prun findHasher.fromFile(\"das_images/0040_10318987.jpg\")"
   ]
  },
  {
   "cell_type": "code",
   "execution_count": 20,
   "metadata": {},
   "outputs": [
    {
     "output_type": "execute_result",
     "data": {
      "text/plain": [
       "list"
      ]
     },
     "metadata": {},
     "execution_count": 20
    }
   ],
   "source": [
    "das_images = list(os.listdir(\"das_images\"))"
   ]
  },
  {
   "cell_type": "code",
   "execution_count": 31,
   "metadata": {},
   "outputs": [],
   "source": [
    "images_sample = random.sample(das_images, 100)"
   ]
  },
  {
   "cell_type": "code",
   "execution_count": 45,
   "metadata": {},
   "outputs": [],
   "source": [
    "orig_results = []\n",
    "for image in images_sample:\n",
    "    orig_results.append(findHasher.fromFile(f\"das_images/{image}\"))"
   ]
  },
  {
   "cell_type": "code",
   "execution_count": 49,
   "metadata": {},
   "outputs": [],
   "source": [
    "pickle.dump(orig_results, open('orig_results.p', 'wb'))"
   ]
  },
  {
   "source": [
    "### Code Profiling"
   ],
   "cell_type": "markdown",
   "metadata": {}
  },
  {
   "cell_type": "code",
   "execution_count": 32,
   "metadata": {},
   "outputs": [
    {
     "output_type": "stream",
     "name": "stdout",
     "text": [
      " "
     ]
    },
    {
     "output_type": "stream",
     "text": [
      "         49346155 function calls in 48.138 seconds\n",
      "\n",
      "   Ordered by: internal time\n",
      "\n",
      "   ncalls  tottime  percall  cumtime  percall filename:lineno(function)\n",
      "      100   33.524    0.335   37.445    0.374 FINd.py:167(boxFilter)\n",
      "      100    2.966    0.030    8.958    0.090 FINd.py:66(fillFloatLumaFromBufferImage)\n",
      "  6165369    2.307    0.000    5.988    0.000 Image.py:1345(getpixel)\n",
      " 12330738    2.110    0.000    2.110    0.000 {built-in method builtins.max}\n",
      "  6165769    2.043    0.000    2.796    0.000 Image.py:801(load)\n",
      " 12330738    1.811    0.000    1.811    0.000 {built-in method builtins.min}\n",
      "      100    0.929    0.009    0.929    0.009 FINd.py:110(dct64To16)\n",
      "  6165369    0.886    0.000    0.886    0.000 {method 'getpixel' of 'ImagingCore' objects}\n",
      "  6165669    0.753    0.000    0.753    0.000 {method 'pixel_access' of 'ImagingCore' objects}\n",
      "      100    0.250    0.002    0.250    0.002 {built-in method io.open}\n",
      "      100    0.129    0.001   48.132    0.481 FINd.py:39(fromFile)\n",
      "      100    0.121    0.001    0.121    0.001 FINd.py:100(decimateFloat)\n",
      "     3800    0.095    0.000    0.095    0.000 {method 'read' of '_io.BufferedReader' objects}\n",
      "      100    0.088    0.001    0.088    0.001 {method 'decode' of 'ImagingDecoder' objects}\n",
      "      100    0.036    0.000    0.036    0.000 matrix.py:16(torben)\n",
      "      200    0.027    0.000    0.027    0.000 matrix.py:12(allocateMatrixAsRowMajorArray)\n",
      "        1    0.006    0.006   48.138   48.138 <string>:1(<module>)\n",
      "      200    0.005    0.000    0.005    0.000 {method 'copy' of 'ImagingCore' objects}\n",
      "      100    0.005    0.000    0.044    0.000 FINd.py:146(dctOutput2hash)\n",
      "      100    0.004    0.000    0.151    0.002 ImageFile.py:154(load)\n",
      "      100    0.003    0.000    0.011    0.000 JpegImagePlugin.py:343(_open)\n",
      "      300    0.003    0.000    0.003    0.000 matrix.py:5(allocateMatrix)\n",
      "      100    0.003    0.000    0.314    0.003 Image.py:2841(open)\n",
      "      100    0.003    0.000   47.689    0.477 FINd.py:47(fromImage)\n",
      "      100    0.002    0.000    0.019    0.000 Image.py:2906(_open_core)\n",
      "      100    0.002    0.000    0.002    0.000 {method 'close' of '_io.BufferedReader' objects}\n",
      "      100    0.002    0.000   38.541    0.385 FINd.py:79(findHash256FromFloatLuma)\n",
      "      100    0.002    0.000    0.002    0.000 {built-in method numpy.zeros}\n",
      "      100    0.002    0.000    0.002    0.000 {built-in method PIL._imaging.new}\n",
      "      200    0.002    0.000    0.002    0.000 JpegImagePlugin.py:236(DQT)\n",
      "      100    0.001    0.000    0.002    0.000 JpegImagePlugin.py:59(APP)\n",
      "      100    0.001    0.000    0.002    0.000 JpegImagePlugin.py:188(SOF)\n",
      "      100    0.001    0.000    0.014    0.000 ImageFile.py:92(__init__)\n",
      "      200    0.001    0.000    0.160    0.001 Image.py:1098(copy)\n",
      "      300    0.001    0.000    0.001    0.000 Image.py:530(__init__)\n",
      "     2400    0.001    0.000    0.001    0.000 {built-in method _struct.unpack_from}\n",
      "      200    0.001    0.000    0.002    0.000 Image.py:555(_new)\n",
      "      100    0.001    0.000    0.015    0.000 JpegImagePlugin.py:777(jpeg_factory)\n",
      "     2300    0.001    0.000    0.001    0.000 _binary.py:70(i16be)\n",
      "      100    0.001    0.000    0.001    0.000 Image.py:2260(thumbnail)\n",
      "      300    0.001    0.000    0.001    0.000 {method 'seek' of '_io.BufferedReader' objects}\n",
      "      500    0.001    0.000    0.001    0.000 JpegImagePlugin.py:54(Skip)\n",
      "      100    0.001    0.000    0.001    0.000 Image.py:419(_getdecoder)\n",
      "     2300    0.001    0.000    0.001    0.000 _binary.py:21(i8)\n",
      "      200    0.000    0.000    0.001    0.000 _util.py:5(isPath)\n",
      "      900    0.000    0.000    0.001    0.000 ImageFile.py:550(_safe_read)\n",
      "      100    0.000    0.000    0.000    0.000 JpegImagePlugin.py:485(_getmp)\n",
      "      500    0.000    0.000    0.000    0.000 {built-in method builtins.isinstance}\n",
      "      200    0.000    0.000    0.000    0.000 FINd.py:159(computeBoxFilterWindowSize)\n",
      "      100    0.000    0.000    0.002    0.000 ImageFile.py:288(load_prepare)\n",
      "      100    0.000    0.000    0.053    0.001 JpegImagePlugin.py:394(load_read)\n",
      "      100    0.000    0.000    0.000    0.000 {built-in method PIL._imaging.jpeg_decoder}\n",
      "      100    0.000    0.000    0.001    0.000 BmpImagePlugin.py:54(_dib_accept)\n",
      "      100    0.000    0.000    0.000    0.000 Image.py:347(preinit)\n",
      "      100    0.000    0.000    0.000    0.000 {built-in method builtins.hasattr}\n",
      "      100    0.000    0.000    0.004    0.000 Image.py:851(convert)\n",
      "     1000    0.000    0.000    0.000    0.000 Image.py:551(size)\n",
      "      100    0.000    0.000    0.000    0.000 {method 'reshape' of 'numpy.ndarray' objects}\n",
      "      100    0.000    0.000    0.000    0.000 BmpImagePlugin.py:50(_accept)\n",
      "      100    0.000    0.000    0.000    0.000 {method 'setimage' of 'ImagingDecoder' objects}\n",
      "      100    0.000    0.000    0.000    0.000 TiffImagePlugin.py:257(_accept)\n",
      "      100    0.000    0.000    0.001    0.000 _binary.py:50(i32le)\n",
      "      100    0.000    0.000    0.000    0.000 {method 'sort' of 'list' objects}\n",
      "      100    0.000    0.000    0.000    0.000 imagehash.py:88(__init__)\n",
      "      100    0.000    0.000    0.000    0.000 Image.py:2821(_decompression_bomb_check)\n",
      "      100    0.000    0.000    0.000    0.000 {built-in method builtins.getattr}\n",
      "      100    0.000    0.000    0.000    0.000 Image.py:543(width)\n",
      "      200    0.000    0.000    0.000    0.000 {method 'copy' of 'dict' objects}\n",
      "      200    0.000    0.000    0.000    0.000 JpegImagePlugin.py:329(_accept)\n",
      "      800    0.000    0.000    0.000    0.000 {built-in method builtins.len}\n",
      "      100    0.000    0.000    0.001    0.000 JpegImagePlugin.py:475(_getmp)\n",
      "      100    0.000    0.000    0.000    0.000 {built-in method builtins.divmod}\n",
      "      100    0.000    0.000    0.000    0.000 GifImagePlugin.py:42(_accept)\n",
      "      400    0.000    0.000    0.000    0.000 {method 'append' of 'list' objects}\n",
      "      100    0.000    0.000    0.000    0.000 Image.py:547(height)\n",
      "        1    0.000    0.000   48.138   48.138 {built-in method builtins.exec}\n",
      "      100    0.000    0.000    0.000    0.000 ImageFile.py:79(_tilesort)\n",
      "      100    0.000    0.000    0.000    0.000 ImageFile.py:296(load_end)\n",
      "      100    0.000    0.000    0.000    0.000 {method 'cleanup' of 'ImagingDecoder' objects}\n",
      "        1    0.000    0.000    0.000    0.000 {method 'disable' of '_lsprof.Profiler' objects}"
     ],
     "name": "stdout"
    }
   ],
   "source": [
    "# Profiling using cProfile\n",
    "%%prun\n",
    "for image in images_sample:\n",
    "    findHasher.fromFile(f\"das_images/{image}\")"
   ]
  },
  {
   "source": [
    "We see that the most time is spent on the boxFilter() and fillFloatLumaFromBufferImage() functions, so we will mainly look at these for performance tuning. Now let's use line profiler to dive into these specific functions"
   ],
   "cell_type": "markdown",
   "metadata": {}
  },
  {
   "cell_type": "code",
   "execution_count": 56,
   "metadata": {},
   "outputs": [
    {
     "output_type": "stream",
     "text": [
      "Timer unit: 1e-06 s\n",
      "\n",
      "Total time: 2.32521 s\n",
      "File: /Users/willemzents/Documents/SDS/Code/Michaelmas/DAS/das-summative/FINd.py\n",
      "Function: boxFilter at line 167\n",
      "\n",
      "Line #      Hits         Time  Per Hit   % Time  Line Contents\n",
      "==============================================================\n",
      "   167                                           \t@classmethod\n",
      "   168                                           \tdef boxFilter(cls,input,output,rows,cols,rowWin,colWin):\n",
      "   169         1          2.0      2.0      0.0  \t\thalfColWin = int((colWin + 2) / 2)  # 7->4, 8->5\n",
      "   170         1          0.0      0.0      0.0  \t\thalfRowWin = int((rowWin + 2) / 2) \n",
      "   171       251        129.0      0.5      0.0  \t\tfor i in range(0,rows):\n",
      "   172     62750      19660.0      0.3      0.8  \t\t\tfor j in range(0,cols):\n",
      "   173     62500      19858.0      0.3      0.9  \t\t\t\ts=0\n",
      "   174     62500      39035.0      0.6      1.7  \t\t\t\txmin=max(0,i-halfRowWin)\n",
      "   175     62500      31982.0      0.5      1.4  \t\t\t\txmax=min(rows,i+halfRowWin)\n",
      "   176     62500      30790.0      0.5      1.3  \t\t\t\tymin=max(0,j-halfColWin)\n",
      "   177     62500      31241.0      0.5      1.3  \t\t\t\tymax=min(cols,j+halfColWin)\n",
      "   178    435250     157652.0      0.4      6.8  \t\t\t\tfor k in range(xmin,xmax):\n",
      "   179   2595831     948468.0      0.4     40.8  \t\t\t\t\tfor l in range(ymin,ymax):\n",
      "   180   2223081    1009180.0      0.5     43.4  \t\t\t\t\t\ts+=input[k*rows+l]\n",
      "   181     62500      37212.0      0.6      1.6  \t\t\t\toutput[i*rows+j]=s/((xmax-xmin)*(ymax-ymin))"
     ],
     "name": "stdout"
    }
   ],
   "source": [
    "path_to_image = \"das_images/0040_10318987.jpg\"\n",
    "\n",
    "%lprun -f findHasher.boxFilter findHasher.fromFile(path_to_image)"
   ]
  },
  {
   "cell_type": "code",
   "execution_count": 57,
   "metadata": {},
   "outputs": [
    {
     "output_type": "stream",
     "text": [
      "Timer unit: 1e-06 s\n",
      "\n",
      "Total time: 0.192876 s\n",
      "File: /Users/willemzents/Documents/SDS/Code/Michaelmas/DAS/das-summative/FINd.py\n",
      "Function: fillFloatLumaFromBufferImage at line 66\n",
      "\n",
      "Line #      Hits         Time  Per Hit   % Time  Line Contents\n",
      "==============================================================\n",
      "    66                                           \tdef fillFloatLumaFromBufferImage(self, img, luma):\n",
      "    67         1          3.0      3.0      0.0  \t\tnumCols, numRows = img.size\n",
      "    68         1         59.0     59.0      0.0  \t\trgb_image = img.convert(\"RGB\")\n",
      "    69         1          2.0      2.0      0.0  \t\tnumCols, numRows = img.size\n",
      "    70       251         78.0      0.3      0.0  \t\tfor i in range(numRows):\n",
      "    71     62750      19524.0      0.3     10.1  \t\t\tfor j in range(numCols):\n",
      "    72     62500     131487.0      2.1     68.2  \t\t\t\tr, g, b = rgb_image.getpixel((j, i))\n",
      "    73                                           \t\t\t\tluma[i * numCols + j] = (\n",
      "    74                                           \t\t\t\t\tself.LUMA_FROM_R_COEFF * r\n",
      "    75                                           \t\t\t\t\t+ self.LUMA_FROM_G_COEFF * g\n",
      "    76     62500      41723.0      0.7     21.6  \t\t\t\t\t+ self.LUMA_FROM_B_COEFF * b\n",
      "    77                                           \t\t\t\t)"
     ],
     "name": "stdout"
    }
   ],
   "source": [
    "path_to_image = \"das_images/0040_10318987.jpg\"\n",
    "\n",
    "%lprun -f findHasher.fillFloatLumaFromBufferImage findHasher.fromFile(path_to_image)"
   ]
  },
  {
   "source": [
    "### Scraps"
   ],
   "cell_type": "markdown",
   "metadata": {}
  },
  {
   "cell_type": "code",
   "execution_count": 483,
   "metadata": {
    "tags": []
   },
   "outputs": [],
   "source": [
    "from matrix import MatrixUtil\n",
    "from PIL import Image\n",
    "\n",
    "img=Image.open(\"das_images/0120_28335973.jpg\")\n",
    "\n",
    "img = img.copy()\n",
    "img.thumbnail((512, 512))\n",
    "\n",
    "LUMA_FROM_R_COEFF = float(0.299)\n",
    "LUMA_FROM_G_COEFF = float(0.587)\n",
    "LUMA_FROM_B_COEFF = float(0.114)\n",
    "\n",
    "numCols, numRows = img.size\n",
    "buffer1 = MatrixUtil.allocateMatrixAsRowMajorArray(numRows, numCols)\n",
    "buffer2 = MatrixUtil.allocateMatrixAsRowMajorArray(numRows, numCols)\n",
    "\n",
    "buffer1_np = np.array(MatrixUtil.allocateMatrixAsRowMajorArray(numRows, numCols))\n",
    "buffer2_np = np.array(MatrixUtil.allocateMatrixAsRowMajorArray(numRows, numCols))\n",
    "\n",
    "buffer64x64 = MatrixUtil.allocateMatrix(64, 64)\n",
    "buffer16x64 = MatrixUtil.allocateMatrix(16, 64)\n",
    "buffer16x16 = MatrixUtil.allocateMatrix(16, 16)\n",
    "numCols, numRows = img.size\n",
    "\n",
    "def computeBoxFilterWindowSize(dimension):\n",
    "    \"\"\" Round up.\"\"\"\n",
    "    return int(\n",
    "        (dimension + 64 - 1)\n",
    "        / 64\n",
    "    )\n",
    "\n",
    "windowSizeAlongRows = computeBoxFilterWindowSize(numCols)\n",
    "windowSizeAlongCols = computeBoxFilterWindowSize(numRows)\n",
    "\n",
    "def fillFloatLumaFromBufferImage(img, luma):\n",
    "    rgb_image = img.convert(\"RGB\")\n",
    "    numCols, numRows = img.size\n",
    "    for i in range(numRows):\n",
    "        for j in range(numCols):\n",
    "            r, g, b = rgb_image.getpixel((j, i))\n",
    "            luma[i * numCols + j] = (\n",
    "                LUMA_FROM_R_COEFF * r\n",
    "                + LUMA_FROM_G_COEFF * g\n",
    "                + LUMA_FROM_B_COEFF * b\n",
    "            )\n",
    "\n",
    "fillFloatLumaFromBufferImage(img, buffer1)\n",
    "\n",
    "\n",
    "def boxFilter(input, output, rows, cols, rowWin, colWin):\n",
    "    halfColWin = int((colWin + 2) / 2)  # 7->4, 8->5\n",
    "    halfRowWin = int((rowWin + 2) / 2)\n",
    "    for i in range(0, rows):\n",
    "        for j in range(0, cols):\n",
    "            s = 0\n",
    "            xmin = max(0, i-halfRowWin)\n",
    "            xmax = min(rows, i+halfRowWin)\n",
    "            ymin = max(0, j-halfColWin)\n",
    "            ymax = min(cols, j+halfColWin)\n",
    "            for k in range(xmin, xmax):\n",
    "                for l in range(ymin, ymax):\n",
    "                    s += input[k*rows+l]\n",
    "            output[i*rows+j] = s/((xmax-xmin)*(ymax-ymin))\n",
    "    \n",
    "    return output\n",
    "\n",
    "def boxFilterNumpy(input, output, rows, cols, rowWin, colWin):\n",
    "    halfColWin = int((colWin + 2) / 2)  # 7->4, 8->5\n",
    "    halfRowWin = int((rowWin + 2) / 2)\n",
    "    \n",
    "    output = np.array(output)\n",
    "    input = np.array(input)\n",
    "\n",
    "    for i in range(0, rows):\n",
    "        for j in range(0, cols):\n",
    "            \n",
    "            x = np.array(np.arange(max(0, i-halfRowWin), min(rows, i+halfRowWin)))\n",
    "            y = np.array(np.arange(max(0, j-halfColWin), min(cols, j+halfColWin)))\n",
    "\n",
    "            arr = np.array((np.ones((y.size,x.size)) * x * numRows + y.reshape(-1,1)), dtype=int)\n",
    "            output[i*rows+j] = np.mean(input[arr.flatten()])\n",
    "\n",
    "    return output"
   ]
  },
  {
   "cell_type": "code",
   "execution_count": 480,
   "metadata": {
    "tags": []
   },
   "outputs": [
    {
     "output_type": "execute_result",
     "data": {
      "text/plain": [
       "array([190.04877778, 200.0175    , 205.76706667, ..., 127.403625  ,\n",
       "       123.9092    , 124.0609375 ])"
      ]
     },
     "metadata": {},
     "execution_count": 480
    }
   ],
   "source": [
    "boxFilterNumpy(buffer1, buffer2, numRows, numCols, windowSizeAlongRows, windowSizeAlongCols)\n"
   ]
  },
  {
   "cell_type": "code",
   "execution_count": 400,
   "metadata": {},
   "outputs": [],
   "source": [
    "halfColWin = int((windowSizeAlongCols + 2) / 2)  # 7->4, 8->5\n",
    "halfRowWin = int((windowSizeAlongRows + 2) / 2)\n",
    "\n",
    "xmin = np.array([max(0, i-halfRowWin) for i in range(0, 250)])\n",
    "xmax = np.array([min(250, i+halfRowWin) for i in range(0, 250)])\n",
    "ymin = np.array([max(0, j-halfColWin) for j in range(0, 250)])\n",
    "ymax = np.array([min(250, j+halfColWin) for j in range(0, 250)])\n",
    "\n",
    "x = np.array(range(xmin[3], xmax[3]))\n",
    "y = np.array(range(ymin[3], ymax[3]))"
   ]
  },
  {
   "cell_type": "code",
   "execution_count": 513,
   "metadata": {},
   "outputs": [
    {
     "output_type": "execute_result",
     "data": {
      "text/plain": [
       "10"
      ]
     },
     "metadata": {},
     "execution_count": 513
    }
   ],
   "source": [
    "xmin = 10\n",
    "xmax = 14\n",
    "ymin = 10\n",
    "ymax = 16\n",
    "\n",
    "x = np.array(np.arange(xmin, xmax))\n",
    "y = np.array(np.arange(ymin, ymax))\n",
    "\n",
    "# np.array(np.ones((ymax-ymin, xmax-xmin)) * x * numRows + y.reshape(-1,1)).astype(int)\n",
    "# np.ones((xmax-xmin, ymax-ymin)) * x * numRows + y.reshape(-1,1)\n",
    "# np.ones((xmax-xmin, ymax-ymin)) * x * numRows\n",
    "# np.ones((ymax-ymin,xmax-xmin)) * x\n",
    "# np.ones_like(x*y) #* np.ones_like(y)\n",
    "\n",
    "len(np.concatenate((x,y)))#.reshape(x.size,y.size)"
   ]
  },
  {
   "cell_type": "code",
   "execution_count": 362,
   "metadata": {},
   "outputs": [
    {
     "output_type": "stream",
     "name": "stdout",
     "text": [
      "6585.267\n"
     ]
    }
   ],
   "source": [
    "s=0\n",
    "for k in range(xmin, xmax):\n",
    "    for l in range(ymin, ymax):\n",
    "        s += buffer1[k*numRows+l]\n",
    "print(s)\n",
    "\n"
   ]
  },
  {
   "cell_type": "code",
   "execution_count": 436,
   "metadata": {},
   "outputs": [
    {
     "output_type": "execute_result",
     "data": {
      "text/plain": [
       "array([ 256,  512,  768, 1024, 1280, 1536,  257,  513,  769, 1025, 1281,\n",
       "       1537,  258,  514,  770, 1026, 1282, 1538,  259,  515,  771, 1027,\n",
       "       1283, 1539,  260,  516,  772, 1028, 1284, 1540,  261,  517,  773,\n",
       "       1029, 1285, 1541])"
      ]
     },
     "metadata": {},
     "execution_count": 436
    }
   ],
   "source": [
    "func = np.vectorize(lambda x: buffer1[x])\n",
    "\n",
    "\n",
    "a = np.matrix([x,]*len(y))\n",
    "b = np.matrix([y,]*len(x)).transpose()\n",
    "prod = np.prod(a.shape)\n",
    "# out = np.sum(a * 256 + b) / np.prod(a.shape)\n",
    "out = a * 256 + b\n",
    "out.A1"
   ]
  },
  {
   "cell_type": "code",
   "execution_count": 488,
   "metadata": {},
   "outputs": [
    {
     "output_type": "execute_result",
     "data": {
      "text/plain": [
       "array([[0],\n",
       "       [1],\n",
       "       [2]])"
      ]
     },
     "metadata": {},
     "execution_count": 488
    }
   ],
   "source": [
    "x = np.array(range(0,3))\n",
    "x.reshape(-1,1)"
   ]
  },
  {
   "cell_type": "code",
   "execution_count": 287,
   "metadata": {},
   "outputs": [
    {
     "output_type": "execute_result",
     "data": {
      "text/plain": [
       "array([[0, 1, 2, 3, 4, 5],\n",
       "       [0, 1, 2, 3, 4, 5],\n",
       "       [0, 1, 2, 3, 4, 5],\n",
       "       [0, 1, 2, 3, 4, 5],\n",
       "       [0, 1, 2, 3, 4, 5],\n",
       "       [0, 1, 2, 3, 4, 5]])"
      ]
     },
     "metadata": {},
     "execution_count": 287
    }
   ],
   "source": [
    "np.array([y,]*len(x))"
   ]
  },
  {
   "cell_type": "code",
   "execution_count": 460,
   "metadata": {
    "tags": []
   },
   "outputs": [
    {
     "output_type": "error",
     "ename": "AssertionError",
     "evalue": "",
     "traceback": [
      "\u001b[0;31m---------------------------------------------------------------------------\u001b[0m",
      "\u001b[0;31mAssertionError\u001b[0m                            Traceback (most recent call last)",
      "\u001b[0;32m<ipython-input-460-406b64e6eeb2>\u001b[0m in \u001b[0;36m<module>\u001b[0;34m\u001b[0m\n\u001b[1;32m      1\u001b[0m \u001b[0moutputnumpy\u001b[0m \u001b[0;34m=\u001b[0m \u001b[0mboxFilterNumpy\u001b[0m\u001b[0;34m(\u001b[0m\u001b[0mbuffer1\u001b[0m\u001b[0;34m,\u001b[0m \u001b[0mbuffer2\u001b[0m\u001b[0;34m,\u001b[0m \u001b[0mnumRows\u001b[0m\u001b[0;34m,\u001b[0m \u001b[0mnumCols\u001b[0m\u001b[0;34m,\u001b[0m \u001b[0mwindowSizeAlongRows\u001b[0m\u001b[0;34m,\u001b[0m \u001b[0mwindowSizeAlongCols\u001b[0m\u001b[0;34m)\u001b[0m\u001b[0;34m\u001b[0m\u001b[0;34m\u001b[0m\u001b[0m\n\u001b[1;32m      2\u001b[0m \u001b[0moutput\u001b[0m \u001b[0;34m=\u001b[0m \u001b[0mboxFilter\u001b[0m\u001b[0;34m(\u001b[0m\u001b[0mbuffer1\u001b[0m\u001b[0;34m,\u001b[0m \u001b[0mbuffer2\u001b[0m\u001b[0;34m,\u001b[0m \u001b[0mnumRows\u001b[0m\u001b[0;34m,\u001b[0m \u001b[0mnumCols\u001b[0m\u001b[0;34m,\u001b[0m \u001b[0mwindowSizeAlongRows\u001b[0m\u001b[0;34m,\u001b[0m \u001b[0mwindowSizeAlongCols\u001b[0m\u001b[0;34m)\u001b[0m\u001b[0;34m\u001b[0m\u001b[0;34m\u001b[0m\u001b[0m\n\u001b[0;32m----> 3\u001b[0;31m \u001b[0;32massert\u001b[0m \u001b[0moutputnumpy\u001b[0m\u001b[0;34m[\u001b[0m\u001b[0;36m0\u001b[0m\u001b[0;34m]\u001b[0m \u001b[0;34m==\u001b[0m \u001b[0mnp\u001b[0m\u001b[0;34m.\u001b[0m\u001b[0marray\u001b[0m\u001b[0;34m(\u001b[0m\u001b[0moutput\u001b[0m\u001b[0;34m)\u001b[0m\u001b[0;34m[\u001b[0m\u001b[0;36m0\u001b[0m\u001b[0;34m]\u001b[0m\u001b[0;34m\u001b[0m\u001b[0;34m\u001b[0m\u001b[0m\n\u001b[0m",
      "\u001b[0;31mAssertionError\u001b[0m: "
     ]
    }
   ],
   "source": [
    "outputnumpy = boxFilterNumpy(buffer1, buffer2, numRows, numCols, windowSizeAlongRows, windowSizeAlongCols)\n",
    "output = boxFilter(buffer1, buffer2, numRows, numCols, windowSizeAlongRows, windowSizeAlongCols)\n",
    "assert outputnumpy[0] == np.array(output)[0]"
   ]
  },
  {
   "cell_type": "code",
   "execution_count": 464,
   "metadata": {},
   "outputs": [
    {
     "output_type": "execute_result",
     "data": {
      "text/plain": [
       "190.04877777777776"
      ]
     },
     "metadata": {},
     "execution_count": 464
    }
   ],
   "source": [
    "outputnumpy[0]"
   ]
  },
  {
   "cell_type": "code",
   "execution_count": 478,
   "metadata": {},
   "outputs": [
    {
     "output_type": "execute_result",
     "data": {
      "text/plain": [
       "matrix([[1, 2],\n",
       "        [3, 4]])"
      ]
     },
     "metadata": {},
     "execution_count": 478
    }
   ],
   "source": [
    "x = np.array(range(10, 16))\n",
    "y = np.array(range(10, 16))\n",
    "z = np.matrix(([1,2],[3,4]), dtype=int)\n",
    "z"
   ]
  },
  {
   "cell_type": "code",
   "execution_count": 468,
   "metadata": {},
   "outputs": [
    {
     "output_type": "stream",
     "name": "stdout",
     "text": [
      " "
     ]
    },
    {
     "output_type": "stream",
     "text": [
      "         250004 function calls in 0.388 seconds\n",
      "\n",
      "   Ordered by: internal time\n",
      "\n",
      "   ncalls  tottime  percall  cumtime  percall filename:lineno(function)\n",
      "        1    0.347    0.347    0.388    0.388 <ipython-input-448-3fc76dc02a9a>:50(boxFilter)\n",
      "   125000    0.022    0.000    0.022    0.000 {built-in method builtins.max}\n",
      "   125000    0.018    0.000    0.018    0.000 {built-in method builtins.min}\n",
      "        1    0.000    0.000    0.388    0.388 {built-in method builtins.exec}\n",
      "        1    0.000    0.000    0.388    0.388 <string>:1(<module>)\n",
      "        1    0.000    0.000    0.000    0.000 {method 'disable' of '_lsprof.Profiler' objects}"
     ],
     "name": "stdout"
    }
   ],
   "source": [
    "%prun boxFilter(buffer1, buffer2, numRows, numCols, windowSizeAlongRows, windowSizeAlongCols)"
   ]
  },
  {
   "cell_type": "code",
   "execution_count": 484,
   "metadata": {},
   "outputs": [
    {
     "output_type": "stream",
     "name": "stdout",
     "text": [
      " "
     ]
    },
    {
     "output_type": "stream",
     "text": [
      "         1875006 function calls in 1.903 seconds\n",
      "\n",
      "   Ordered by: internal time\n",
      "\n",
      "   ncalls  tottime  percall  cumtime  percall filename:lineno(function)\n",
      "        1    0.675    0.675    1.902    1.902 <ipython-input-483-e43c4a435ba7>:67(boxFilterNumpy)\n",
      "    62500    0.191    0.000    0.505    0.000 _methods.py:134(_mean)\n",
      "    62500    0.145    0.000    0.145    0.000 {method 'reduce' of 'numpy.ufunc' objects}\n",
      "   250002    0.138    0.000    0.138    0.000 {built-in method numpy.array}\n",
      "   125000    0.119    0.000    0.701    0.000 {built-in method numpy.core._multiarray_umath.implement_array_function}\n",
      "   125000    0.095    0.000    0.095    0.000 {built-in method numpy.arange}\n",
      "    62500    0.083    0.000    0.093    0.000 _methods.py:50(_count_reduce_items)\n",
      "    62500    0.078    0.000    0.583    0.000 fromnumeric.py:3231(mean)\n",
      "    62500    0.054    0.000    0.054    0.000 {method 'flatten' of 'numpy.ndarray' objects}\n",
      "    62500    0.048    0.000    0.212    0.000 numeric.py:159(ones)\n",
      "    62500    0.038    0.000    0.659    0.000 <__array_function__ internals>:2(mean)\n",
      "    62500    0.036    0.000    0.133    0.000 <__array_function__ internals>:2(copyto)\n",
      "    62500    0.033    0.000    0.033    0.000 {method 'reshape' of 'numpy.ndarray' objects}\n",
      "    62500    0.031    0.000    0.031    0.000 {built-in method numpy.empty}\n",
      "   125000    0.029    0.000    0.029    0.000 {built-in method builtins.max}\n",
      "   125000    0.022    0.000    0.022    0.000 {built-in method builtins.min}\n",
      "   125000    0.022    0.000    0.022    0.000 {built-in method builtins.isinstance}\n",
      "    62500    0.018    0.000    0.033    0.000 _asarray.py:88(asanyarray)\n",
      "   125000    0.016    0.000    0.016    0.000 {built-in method builtins.issubclass}\n",
      "    62500    0.015    0.000    0.015    0.000 {built-in method builtins.hasattr}\n",
      "    62500    0.009    0.000    0.009    0.000 fromnumeric.py:3227(_mean_dispatcher)\n",
      "    62500    0.008    0.000    0.008    0.000 multiarray.py:1043(copyto)\n",
      "        1    0.000    0.000    1.903    1.903 {built-in method builtins.exec}\n",
      "        1    0.000    0.000    1.902    1.902 <string>:1(<module>)\n",
      "        1    0.000    0.000    0.000    0.000 {method 'disable' of '_lsprof.Profiler' objects}"
     ],
     "name": "stdout"
    }
   ],
   "source": [
    "%prun boxFilterNumpy(buffer1, buffer2, numRows, numCols, windowSizeAlongRows, windowSizeAlongCols)"
   ]
  },
  {
   "cell_type": "code",
   "execution_count": 485,
   "metadata": {},
   "outputs": [
    {
     "output_type": "stream",
     "text": [
      "Timer unit: 1e-06 s\n",
      "\n",
      "Total time: 2.17112 s\n",
      "File: <ipython-input-483-e43c4a435ba7>\n",
      "Function: boxFilterNumpy at line 67\n",
      "\n",
      "Line #      Hits         Time  Per Hit   % Time  Line Contents\n",
      "==============================================================\n",
      "    67                                           def boxFilterNumpy(input, output, rows, cols, rowWin, colWin):\n",
      "    68         1          8.0      8.0      0.0      halfColWin = int((colWin + 2) / 2)  # 7->4, 8->5\n",
      "    69         1          1.0      1.0      0.0      halfRowWin = int((rowWin + 2) / 2)\n",
      "    70                                               \n",
      "    71         1       2714.0   2714.0      0.1      output = np.array(output)\n",
      "    72         1       3814.0   3814.0      0.2      input = np.array(input)\n",
      "    73                                           \n",
      "    74       251        132.0      0.5      0.0      for i in range(0, rows):\n",
      "    75     62750      33372.0      0.5      1.5          for j in range(0, cols):\n",
      "    76                                           \n",
      "    77                                                       # xmin = max(0, i-halfRowWin)\n",
      "    78                                                       # xmax = min(rows, i+halfRowWin)\n",
      "    79                                                       # ymin = max(0, j-halfColWin)\n",
      "    80                                                       # ymax = min(cols, j+halfColWin)\n",
      "    81                                                                   \n",
      "    82                                                       # x = np.array(range(xmin, xmax))\n",
      "    83                                                       # y = np.array(range(ymin, ymax))\n",
      "    84                                                       \n",
      "    85     62500     166139.0      2.7      7.7              x = np.array(np.arange(max(0, i-halfRowWin), min(rows, i+halfRowWin)))\n",
      "    86     62500     112792.0      1.8      5.2              y = np.array(np.arange(max(0, j-halfColWin), min(cols, j+halfColWin)))\n",
      "    87                                           \n",
      "    88     62500     812967.0     13.0     37.4              arr = np.array((np.ones((y.size,x.size)) * x * numRows + y.reshape(-1,1)), dtype=int)\n",
      "    89     62500    1039180.0     16.6     47.9              output[i*rows+j] = np.mean(input[arr.flatten()])\n",
      "    90                                           \n",
      "    91         1          1.0      1.0      0.0      return output"
     ],
     "name": "stdout"
    }
   ],
   "source": [
    "%lprun -f boxFilterNumpy boxFilterNumpy(buffer1, buffer2, numRows, numCols, windowSizeAlongRows, windowSizeAlongCols)"
   ]
  },
  {
   "cell_type": "code",
   "execution_count": 470,
   "metadata": {},
   "outputs": [
    {
     "output_type": "stream",
     "text": [
      "Timer unit: 1e-06 s\n",
      "\n",
      "Total time: 2.3126 s\n",
      "File: <ipython-input-448-3fc76dc02a9a>\n",
      "Function: boxFilter at line 50\n",
      "\n",
      "Line #      Hits         Time  Per Hit   % Time  Line Contents\n",
      "==============================================================\n",
      "    50                                           def boxFilter(input, output, rows, cols, rowWin, colWin):\n",
      "    51         1         13.0     13.0      0.0      halfColWin = int((colWin + 2) / 2)  # 7->4, 8->5\n",
      "    52         1          2.0      2.0      0.0      halfRowWin = int((rowWin + 2) / 2)\n",
      "    53       251         77.0      0.3      0.0      for i in range(0, rows):\n",
      "    54     62750      19791.0      0.3      0.9          for j in range(0, cols):\n",
      "    55     62500      19598.0      0.3      0.8              s = 0\n",
      "    56     62500      36247.0      0.6      1.6              xmin = max(0, i-halfRowWin)\n",
      "    57     62500      31248.0      0.5      1.4              xmax = min(rows, i+halfRowWin)\n",
      "    58     62500      30513.0      0.5      1.3              ymin = max(0, j-halfColWin)\n",
      "    59     62500      30501.0      0.5      1.3              ymax = min(cols, j+halfColWin)\n",
      "    60    435250     154724.0      0.4      6.7              for k in range(xmin, xmax):\n",
      "    61   2595831     943792.0      0.4     40.8                  for l in range(ymin, ymax):\n",
      "    62   2223081    1009369.0      0.5     43.6                      s += input[k*rows+l]\n",
      "    63     62500      36728.0      0.6      1.6              output[i*rows+j] = s/((xmax-xmin)*(ymax-ymin))\n",
      "    64                                               \n",
      "    65         1          0.0      0.0      0.0      return output"
     ],
     "name": "stdout"
    }
   ],
   "source": [
    "%lprun -f boxFilter boxFilter(buffer1, buffer2, numRows, numCols, windowSizeAlongRows, windowSizeAlongCols)"
   ]
  },
  {
   "source": [
    "## Submission Instructions\n",
    "\n",
    "Please produce: a 3500 word report in PDF format along with all code and its output. The code must be provided in an executable format (e.g., .py Python scripts or .ipynb Jupyter notebooks). The work must be submitted electronically via the Assignment Submission WebLearn Site before midday on Friday of Week 0 (15th January) of Hilary term.\n",
    "\n",
    "If anything goes wrong with your submission, email msc@oii.ox.ac.uk immediately. In cases where a technical fault that is later determined to be a fault of the WebLearn system (and not a fault of your computer) prevents your submitting the assessment on time, having a time stamped email message will help the Proctors determine if your assessment will be accepted. Please note that you should not wait until the last minute to submit materials since WebLearn can run slowly at peak submission times and this is not considered a technical fault.\n",
    "\n",
    "Full instructions on using WebLearn for electronic submissions can be found on Canvas.\n",
    "\n",
    "Candidate Number and Cover Sheet: Remember to use the OII coversheet, stating clearly your candidate number, your course, assignment, title and word count. Your work should be identified ONLY by your candidate number (which can be found by visiting the online Student Self-Service facility).\n",
    "\n",
    "Remember we are required under regulations to accept your FIRST submission so please make sure you are uploading the correct file."
   ],
   "cell_type": "markdown",
   "metadata": {}
  },
  {
   "cell_type": "code",
   "execution_count": 486,
   "metadata": {},
   "outputs": [
    {
     "output_type": "execute_result",
     "data": {
      "text/plain": [
       "array([2, 3, 3, 4, 8, 4])"
      ]
     },
     "metadata": {},
     "execution_count": 486
    }
   ],
   "source": [
    "x = np.array([1,2,3,4,5,6,7,8,9,10])\n",
    "y = np.array([[1,2,2], [3,7,3]])\n",
    "x[y.flatten()]"
   ]
  },
  {
   "cell_type": "code",
   "execution_count": null,
   "metadata": {},
   "outputs": [],
   "source": []
  }
 ]
}